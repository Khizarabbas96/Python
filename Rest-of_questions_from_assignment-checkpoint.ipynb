{
 "cells": [
  {
   "cell_type": "code",
   "execution_count": 1,
   "metadata": {},
   "outputs": [
    {
     "name": "stdout",
     "output_type": "stream",
     "text": [
      "2.7.16 |Anaconda, Inc.| (default, Mar 14 2019, 15:49:40) [MSC v.1500 32 bit (Intel)]\n"
     ]
    }
   ],
   "source": [
    "import sys\n",
    "print (sys.version)"
   ]
  },
  {
   "cell_type": "code",
   "execution_count": 2,
   "metadata": {},
   "outputs": [
    {
     "name": "stdout",
     "output_type": "stream",
     "text": [
      "2019-11-05 21:51:16.859000\n"
     ]
    }
   ],
   "source": [
    "from datetime import datetime\n",
    "today = datetime.today()\n",
    "print (today)"
   ]
  },
  {
   "cell_type": "code",
   "execution_count": 3,
   "metadata": {},
   "outputs": [
    {
     "name": "stdout",
     "output_type": "stream",
     "text": [
      "radius of a circle: 2\n",
      "Area is: \n",
      "12.56636\n"
     ]
    }
   ],
   "source": [
    "r=int(input(\"radius of a circle: \"))\n",
    "pi = 3.14159\n",
    "A= pi * r * r\n",
    "print (\"Area is: \")\n",
    "print(A) "
   ]
  },
  {
   "cell_type": "code",
   "execution_count": 4,
   "metadata": {},
   "outputs": [
    {
     "name": "stdout",
     "output_type": "stream",
     "text": [
      "Write first name: khizar\n",
      "Write last name: abbas\n",
      "abbas khizar\n"
     ]
    }
   ],
   "source": [
    "first_name=raw_input(\"Write first name: \")\n",
    "last_name=raw_input(\"Write last name: \")\n",
    "Full_name=(last_name + \" \" + first_name)\n",
    "print(Full_name)"
   ]
  },
  {
   "cell_type": "code",
   "execution_count": 5,
   "metadata": {},
   "outputs": [
    {
     "name": "stdout",
     "output_type": "stream",
     "text": [
      "Write first number: 2\n",
      "Write second number: 5\n",
      "Total= \n",
      "7\n"
     ]
    }
   ],
   "source": [
    "First_value=int(input(\"Write first number: \"))\n",
    "Second_value=int(input(\"Write second number: \"))\n",
    "Add=(First_value + Second_value)\n",
    "print (\"Total= \")\n",
    "print (Add)"
   ]
  },
  {
   "cell_type": "code",
   "execution_count": null,
   "metadata": {},
   "outputs": [],
   "source": []
  }
 ],
 "metadata": {
  "kernelspec": {
   "display_name": "Python 2",
   "language": "python",
   "name": "python2"
  },
  "language_info": {
   "codemirror_mode": {
    "name": "ipython",
    "version": 2
   },
   "file_extension": ".py",
   "mimetype": "text/x-python",
   "name": "python",
   "nbconvert_exporter": "python",
   "pygments_lexer": "ipython2",
   "version": "2.7.16"
  }
 },
 "nbformat": 4,
 "nbformat_minor": 2
}
