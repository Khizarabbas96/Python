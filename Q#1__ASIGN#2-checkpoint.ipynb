{
 "cells": [
  {
   "cell_type": "code",
   "execution_count": 1,
   "metadata": {},
   "outputs": [
    {
     "name": "stdout",
     "output_type": "stream",
     "text": [
      "Enter marks for Sub_1=45\n",
      "Enter marks for Sub_2=65\n",
      "Enter marks for Sub_3=84\n",
      "Enter marks for Sub_4=9845\n",
      "Enter marks for Sub_5=45\n",
      "2016\n",
      "Inappropriate,Re-enter\n"
     ]
    }
   ],
   "source": [
    "max_marks = 500\n",
    "sub_1 = input(\"Enter marks for Sub_1=\")\n",
    "sub_2 = input(\"Enter marks for Sub_2=\")\n",
    "sub_3 = input(\"Enter marks for Sub_3=\")\n",
    "sub_4 = input(\"Enter marks for Sub_4=\")\n",
    "sub_5 = input(\"Enter marks for Sub_5=\")\n",
    "Total_added =  sub_1 + sub_2 + sub_3 + sub_4 + sub_5 \n",
    "per = ( Total_added * 100 ) / max_marks\n",
    "print(per)\n",
    "if per >= 80 and per < 100 :\n",
    "    print(\"A+\")\n",
    "elif per >= 70 and per < 80 :\n",
    "    print(\"A\")\n",
    "elif per >= 60 and per < 70 :\n",
    "    print(\"B\")\n",
    "elif per >= 50 and per < 60 :\n",
    "    print(\"C\") \n",
    "elif per > 100 :\n",
    "    print(\"Inappropriate,Re-enter\")\n",
    "else :\n",
    "    print(\"fail\")"
   ]
  },
  {
   "cell_type": "code",
   "execution_count": null,
   "metadata": {},
   "outputs": [],
   "source": []
  }
 ],
 "metadata": {
  "kernelspec": {
   "display_name": "Python 2",
   "language": "python",
   "name": "python2"
  },
  "language_info": {
   "codemirror_mode": {
    "name": "ipython",
    "version": 2
   },
   "file_extension": ".py",
   "mimetype": "text/x-python",
   "name": "python",
   "nbconvert_exporter": "python",
   "pygments_lexer": "ipython2",
   "version": "2.7.16"
  }
 },
 "nbformat": 4,
 "nbformat_minor": 2
}
